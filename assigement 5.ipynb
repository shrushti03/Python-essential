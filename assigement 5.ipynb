{
 "cells": [
  {
   "cell_type": "markdown",
   "metadata": {},
   "source": [
    "merge 2 sorted list to produce 1 sorted list, use only loop either while or for ones only time."
   ]
  },
  {
   "cell_type": "code",
   "execution_count": 2,
   "metadata": {},
   "outputs": [
    {
     "name": "stdout",
     "output_type": "stream",
     "text": [
      "The combine sorted list is:[5, 10, 15, 20, 25, 35, 40, 45, 60, 60, 70, 80]\n"
     ]
    }
   ],
   "source": [
    "List1=[10,20,40,60,70,80]\n",
    "List2=[5,15,25,35,45,60]\n",
    "size_1=len(List1)\n",
    "size_2=len(List2)\n",
    "\n",
    "res=[]\n",
    "i,j=0,0\n",
    "\n",
    "while i <size_1 and j < size_2:\n",
    "    if List1[i] < List2[j]:\n",
    "        res.append(List1[i])\n",
    "        i +=1\n",
    "    else:\n",
    "        res.append(List2[j])\n",
    "        j +=1\n",
    "        \n",
    "res=res+List1[i:] + List2[j:]\n",
    "print(\"The combine sorted list is:\"+str(res))"
   ]
  },
  {
   "cell_type": "markdown",
   "metadata": {},
   "source": [
    "Sort by increasing order but all zeros should be on right hand side."
   ]
  },
  {
   "cell_type": "code",
   "execution_count": 35,
   "metadata": {},
   "outputs": [
    {
     "name": "stdout",
     "output_type": "stream",
     "text": [
      "[1, 1, 1, 2, 2, 3, 4, 4, 10, 56, 56, 0, 0, 0, 0, 0]\n"
     ]
    }
   ],
   "source": [
    "a=[0,1,2,10,4,1,0,56,2,0,1,3,0,56,0,4]\n",
    "a.sort(reverse=False)\n",
    "myorder = [5,6,7 ,8 ,9 ,10,11,12,13,14,15,0,1,2,3,4 ]\n",
    "a = [a[i] for i in myorder]\n",
    "print(a)"
   ]
  },
  {
   "cell_type": "code",
   "execution_count": null,
   "metadata": {},
   "outputs": [],
   "source": []
  }
 ],
 "metadata": {
  "kernelspec": {
   "display_name": "Python 3",
   "language": "python",
   "name": "python3"
  },
  "language_info": {
   "codemirror_mode": {
    "name": "ipython",
    "version": 3
   },
   "file_extension": ".py",
   "mimetype": "text/x-python",
   "name": "python",
   "nbconvert_exporter": "python",
   "pygments_lexer": "ipython3",
   "version": "3.7.6"
  }
 },
 "nbformat": 4,
 "nbformat_minor": 4
}
